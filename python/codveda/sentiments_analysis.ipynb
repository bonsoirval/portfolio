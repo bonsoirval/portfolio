{
 "cells": [
  {
   "cell_type": "markdown",
   "id": "1af63559-4bc3-42b3-b700-6e6a1cb37601",
   "metadata": {},
   "source": [
    "# **Sentiment Analysis**"
   ]
  },
  {
   "cell_type": "markdown",
   "id": "4c07cec0-fae5-41b6-9127-de8028d135a3",
   "metadata": {},
   "source": [
    "## **Steps**\n",
    "- import dataset\n",
    "- inspect dataset\n",
    "- Data Cleaning\n",
    "\n",
    "      - reomvoe duplicates\n",
    "\n",
    "      - handle null valueus\n",
    "\n",
    "      - remove leading and trailing whitespaces\n",
    "\n",
    "Univariate Data Analysis\n",
    "\n",
    "Bivariate Data Analysis\n",
    "\n",
    "Which platforms drive the most positive engagement?\n",
    "\n",
    "Which countries show the highest positive vs negative sentiment?\n",
    "\n",
    "What time of day drives most engagement (likes & retweets)?\n",
    "\n",
    "Which hashtags drive the most engagement?\n",
    "\n",
    "Which sentiment generates higher engagement?\n",
    "\n",
    "Business Insights We Can Expect\n",
    "\n",
    "Best Platforms: Identify which social platform has most positivity.\n",
    "\n",
    "Geographic Strategy: Target countries with positive sentiment, address negatives.\n",
    "\n",
    "Posting Time: Optimal posting hours for engagement.\n",
    "\n",
    "Hashtag Strategy: Focus on top-performing hashtags.\n",
    "\n",
    "Message Tone: Check if positive posts get more engagement than negative/neutral."
   ]
  },
  {
   "cell_type": "markdown",
   "id": "83404cc7-4c51-47c1-962c-782621c4de2a",
   "metadata": {},
   "source": [
    "**Import Dataset**"
   ]
  },
  {
   "cell_type": "code",
   "execution_count": 5,
   "id": "a95be024-c94a-447a-ad59-9228ea8fc193",
   "metadata": {},
   "outputs": [],
   "source": [
    "# import libraries\n",
    "import  numpy as np\n",
    "import pandas as pd\n",
    "import matplotlib.pyplot as plt"
   ]
  },
  {
   "cell_type": "code",
   "execution_count": 22,
   "id": "9609f342-0db4-4010-9578-53b737c6402f",
   "metadata": {},
   "outputs": [],
   "source": [
    "# import dataset\n",
    "df = pd.read_csv(\n",
    "    'dataset/sentiment_dataset.csv', \n",
    "    index_col=0, \n",
    "    usecols = ['Text', 'Sentiment', 'Timestamp', 'User', 'Platform', 'Hashtags', 'Retweets', 'Likes', 'Country', 'Year', 'Month', 'Day', 'Hour']).reset_index()"
   ]
  },
  {
   "cell_type": "markdown",
   "id": "667554f8-2db4-4f9b-bbf3-fdfbbfe772d0",
   "metadata": {},
   "source": [
    "## **Data Cleaning**"
   ]
  },
  {
   "cell_type": "code",
   "execution_count": 58,
   "id": "54633f5d-fa00-4cfc-a578-cbee34050054",
   "metadata": {},
   "outputs": [
    {
     "name": "stdout",
     "output_type": "stream",
     "text": [
      "There are 20 duplicated values\n"
     ]
    }
   ],
   "source": [
    "# check duplicates\n",
    "print(f\"There are {len(df[df.duplicated()])} duplicated values\")"
   ]
  },
  {
   "cell_type": "code",
   "execution_count": 63,
   "id": "2177ff07-c26d-4653-a012-c306446c6183",
   "metadata": {},
   "outputs": [
    {
     "data": {
      "text/plain": [
       "(712, 13)"
      ]
     },
     "execution_count": 63,
     "metadata": {},
     "output_type": "execute_result"
    }
   ],
   "source": [
    "# remove duplicates in place\n",
    "df.drop_duplicates(inplace=True)\n",
    "\n",
    "# Confirm duplicates removal\n",
    "df.shape"
   ]
  },
  {
   "cell_type": "code",
   "execution_count": 66,
   "id": "0c48cf00-c003-46ac-b51a-671f6c40a764",
   "metadata": {},
   "outputs": [
    {
     "name": "stdout",
     "output_type": "stream",
     "text": [
      "There are 0 null values\n"
     ]
    }
   ],
   "source": [
    "# check for null values\n",
    "print(f\"There are {df.isnull().sum().sum()} null values\")"
   ]
  },
  {
   "cell_type": "code",
   "execution_count": 91,
   "id": "b57fc7fa-4ec4-43f9-8a76-606b98f586c0",
   "metadata": {},
   "outputs": [
    {
     "data": {
      "text/plain": [
       "'#Nature #Park'"
      ]
     },
     "execution_count": 91,
     "metadata": {},
     "output_type": "execute_result"
    }
   ],
   "source": [
    "# remove leading and trailing whitespaces\n",
    "df['Text'] = [txt.strip() for txt in list(df['Text'])]\n",
    "df['Sentiment'] = [sent.strip() for sent in list(df['Sentiment'])]\n",
    "df['User'] = [usr.strip() for usr in list(df['User'])]\n",
    "\n",
    "df['Platform'] = [pltform.strip() for pltform in list(df['Platform'])]\n",
    "df['Hashtags'] = [tags.strip() for tags in list(df['Hashtags'])]\n",
    "df['Hashtags'][0]"
   ]
  },
  {
   "cell_type": "code",
   "execution_count": null,
   "id": "12480cf3-01f5-4557-b6e8-c29b7db9f2da",
   "metadata": {},
   "outputs": [],
   "source": []
  },
  {
   "cell_type": "code",
   "execution_count": null,
   "id": "73846d75-e1f9-4d7e-a5ac-e4f85e156073",
   "metadata": {},
   "outputs": [],
   "source": []
  },
  {
   "cell_type": "markdown",
   "id": "b7e9a1cd-f3cd-4f2e-bbc5-35568fd17417",
   "metadata": {},
   "source": [
    "## **Exploratory Data Analysis**"
   ]
  },
  {
   "cell_type": "code",
   "execution_count": 23,
   "id": "2d8ccabc-d988-4d3a-bfee-e24007ae57d9",
   "metadata": {},
   "outputs": [
    {
     "data": {
      "text/html": [
       "<div>\n",
       "<style scoped>\n",
       "    .dataframe tbody tr th:only-of-type {\n",
       "        vertical-align: middle;\n",
       "    }\n",
       "\n",
       "    .dataframe tbody tr th {\n",
       "        vertical-align: top;\n",
       "    }\n",
       "\n",
       "    .dataframe thead th {\n",
       "        text-align: right;\n",
       "    }\n",
       "</style>\n",
       "<table border=\"1\" class=\"dataframe\">\n",
       "  <thead>\n",
       "    <tr style=\"text-align: right;\">\n",
       "      <th></th>\n",
       "      <th>Text</th>\n",
       "      <th>Sentiment</th>\n",
       "      <th>Timestamp</th>\n",
       "      <th>User</th>\n",
       "      <th>Platform</th>\n",
       "      <th>Hashtags</th>\n",
       "      <th>Retweets</th>\n",
       "      <th>Likes</th>\n",
       "      <th>Country</th>\n",
       "      <th>Year</th>\n",
       "      <th>Month</th>\n",
       "      <th>Day</th>\n",
       "      <th>Hour</th>\n",
       "    </tr>\n",
       "  </thead>\n",
       "  <tbody>\n",
       "    <tr>\n",
       "      <th>0</th>\n",
       "      <td>Enjoying a beautiful day at the park!        ...</td>\n",
       "      <td>Positive</td>\n",
       "      <td>2023-01-15 12:30:00</td>\n",
       "      <td>User123</td>\n",
       "      <td>Twitter</td>\n",
       "      <td>#Nature #Park</td>\n",
       "      <td>15.0</td>\n",
       "      <td>30.0</td>\n",
       "      <td>USA</td>\n",
       "      <td>2023</td>\n",
       "      <td>1</td>\n",
       "      <td>15</td>\n",
       "      <td>12</td>\n",
       "    </tr>\n",
       "    <tr>\n",
       "      <th>1</th>\n",
       "      <td>Traffic was terrible this morning.           ...</td>\n",
       "      <td>Negative</td>\n",
       "      <td>2023-01-15 08:45:00</td>\n",
       "      <td>CommuterX</td>\n",
       "      <td>Twitter</td>\n",
       "      <td>#Traffic #Morning</td>\n",
       "      <td>5.0</td>\n",
       "      <td>10.0</td>\n",
       "      <td>Canada</td>\n",
       "      <td>2023</td>\n",
       "      <td>1</td>\n",
       "      <td>15</td>\n",
       "      <td>8</td>\n",
       "    </tr>\n",
       "    <tr>\n",
       "      <th>2</th>\n",
       "      <td>Just finished an amazing workout! 💪          ...</td>\n",
       "      <td>Positive</td>\n",
       "      <td>2023-01-15 15:45:00</td>\n",
       "      <td>FitnessFan</td>\n",
       "      <td>Instagram</td>\n",
       "      <td>#Fitness #Workout</td>\n",
       "      <td>20.0</td>\n",
       "      <td>40.0</td>\n",
       "      <td>USA</td>\n",
       "      <td>2023</td>\n",
       "      <td>1</td>\n",
       "      <td>15</td>\n",
       "      <td>15</td>\n",
       "    </tr>\n",
       "    <tr>\n",
       "      <th>3</th>\n",
       "      <td>Excited about the upcoming weekend getaway!  ...</td>\n",
       "      <td>Positive</td>\n",
       "      <td>2023-01-15 18:20:00</td>\n",
       "      <td>AdventureX</td>\n",
       "      <td>Facebook</td>\n",
       "      <td>#Travel #Adventure</td>\n",
       "      <td>8.0</td>\n",
       "      <td>15.0</td>\n",
       "      <td>UK</td>\n",
       "      <td>2023</td>\n",
       "      <td>1</td>\n",
       "      <td>15</td>\n",
       "      <td>18</td>\n",
       "    </tr>\n",
       "    <tr>\n",
       "      <th>4</th>\n",
       "      <td>Trying out a new recipe for dinner tonight.  ...</td>\n",
       "      <td>Neutral</td>\n",
       "      <td>2023-01-15 19:55:00</td>\n",
       "      <td>ChefCook</td>\n",
       "      <td>Instagram</td>\n",
       "      <td>#Cooking #Food</td>\n",
       "      <td>12.0</td>\n",
       "      <td>25.0</td>\n",
       "      <td>Australia</td>\n",
       "      <td>2023</td>\n",
       "      <td>1</td>\n",
       "      <td>15</td>\n",
       "      <td>19</td>\n",
       "    </tr>\n",
       "  </tbody>\n",
       "</table>\n",
       "</div>"
      ],
      "text/plain": [
       "                                                Text    Sentiment  \\\n",
       "0   Enjoying a beautiful day at the park!        ...   Positive     \n",
       "1   Traffic was terrible this morning.           ...   Negative     \n",
       "2   Just finished an amazing workout! 💪          ...   Positive     \n",
       "3   Excited about the upcoming weekend getaway!  ...   Positive     \n",
       "4   Trying out a new recipe for dinner tonight.  ...   Neutral      \n",
       "\n",
       "             Timestamp            User     Platform  \\\n",
       "0  2023-01-15 12:30:00   User123          Twitter     \n",
       "1  2023-01-15 08:45:00   CommuterX        Twitter     \n",
       "2  2023-01-15 15:45:00   FitnessFan      Instagram    \n",
       "3  2023-01-15 18:20:00   AdventureX       Facebook    \n",
       "4  2023-01-15 19:55:00   ChefCook        Instagram    \n",
       "\n",
       "                                     Hashtags  Retweets  Likes       Country  \\\n",
       "0   #Nature #Park                                  15.0   30.0     USA         \n",
       "1   #Traffic #Morning                               5.0   10.0     Canada      \n",
       "2   #Fitness #Workout                              20.0   40.0   USA           \n",
       "3   #Travel #Adventure                              8.0   15.0     UK          \n",
       "4   #Cooking #Food                                 12.0   25.0    Australia    \n",
       "\n",
       "   Year  Month  Day  Hour  \n",
       "0  2023      1   15    12  \n",
       "1  2023      1   15     8  \n",
       "2  2023      1   15    15  \n",
       "3  2023      1   15    18  \n",
       "4  2023      1   15    19  "
      ]
     },
     "execution_count": 23,
     "metadata": {},
     "output_type": "execute_result"
    }
   ],
   "source": [
    "# inspect dataset head\n",
    "df.head()"
   ]
  },
  {
   "cell_type": "code",
   "execution_count": 24,
   "id": "4868da41-2ea8-4675-b313-51ffba33221a",
   "metadata": {},
   "outputs": [
    {
     "data": {
      "text/html": [
       "<div>\n",
       "<style scoped>\n",
       "    .dataframe tbody tr th:only-of-type {\n",
       "        vertical-align: middle;\n",
       "    }\n",
       "\n",
       "    .dataframe tbody tr th {\n",
       "        vertical-align: top;\n",
       "    }\n",
       "\n",
       "    .dataframe thead th {\n",
       "        text-align: right;\n",
       "    }\n",
       "</style>\n",
       "<table border=\"1\" class=\"dataframe\">\n",
       "  <thead>\n",
       "    <tr style=\"text-align: right;\">\n",
       "      <th></th>\n",
       "      <th>Text</th>\n",
       "      <th>Sentiment</th>\n",
       "      <th>Timestamp</th>\n",
       "      <th>User</th>\n",
       "      <th>Platform</th>\n",
       "      <th>Hashtags</th>\n",
       "      <th>Retweets</th>\n",
       "      <th>Likes</th>\n",
       "      <th>Country</th>\n",
       "      <th>Year</th>\n",
       "      <th>Month</th>\n",
       "      <th>Day</th>\n",
       "      <th>Hour</th>\n",
       "    </tr>\n",
       "  </thead>\n",
       "  <tbody>\n",
       "    <tr>\n",
       "      <th>727</th>\n",
       "      <td>Collaborating on a science project that receiv...</td>\n",
       "      <td>Happy</td>\n",
       "      <td>2017-08-18 18:20:00</td>\n",
       "      <td>ScienceProjectSuccessHighSchool</td>\n",
       "      <td>Facebook</td>\n",
       "      <td>#ScienceFairWinner #HighSchoolScience</td>\n",
       "      <td>20.0</td>\n",
       "      <td>39.0</td>\n",
       "      <td>UK</td>\n",
       "      <td>2017</td>\n",
       "      <td>8</td>\n",
       "      <td>18</td>\n",
       "      <td>18</td>\n",
       "    </tr>\n",
       "    <tr>\n",
       "      <th>728</th>\n",
       "      <td>Attending a surprise birthday party organized ...</td>\n",
       "      <td>Happy</td>\n",
       "      <td>2018-06-22 14:15:00</td>\n",
       "      <td>BirthdayPartyJoyHighSchool</td>\n",
       "      <td>Instagram</td>\n",
       "      <td>#SurpriseCelebration #HighSchoolFriendship</td>\n",
       "      <td>25.0</td>\n",
       "      <td>48.0</td>\n",
       "      <td>USA</td>\n",
       "      <td>2018</td>\n",
       "      <td>6</td>\n",
       "      <td>22</td>\n",
       "      <td>14</td>\n",
       "    </tr>\n",
       "    <tr>\n",
       "      <th>729</th>\n",
       "      <td>Successfully fundraising for a school charity ...</td>\n",
       "      <td>Happy</td>\n",
       "      <td>2019-04-05 17:30:00</td>\n",
       "      <td>CharityFundraisingTriumphHighSchool</td>\n",
       "      <td>Twitter</td>\n",
       "      <td>#CommunityGiving #HighSchoolPhilanthropy</td>\n",
       "      <td>22.0</td>\n",
       "      <td>42.0</td>\n",
       "      <td>Canada</td>\n",
       "      <td>2019</td>\n",
       "      <td>4</td>\n",
       "      <td>5</td>\n",
       "      <td>17</td>\n",
       "    </tr>\n",
       "    <tr>\n",
       "      <th>730</th>\n",
       "      <td>Participating in a multicultural festival, cel...</td>\n",
       "      <td>Happy</td>\n",
       "      <td>2020-02-29 20:45:00</td>\n",
       "      <td>MulticulturalFestivalJoyHighSchool</td>\n",
       "      <td>Facebook</td>\n",
       "      <td>#CulturalCelebration #HighSchoolUnity</td>\n",
       "      <td>21.0</td>\n",
       "      <td>43.0</td>\n",
       "      <td>UK</td>\n",
       "      <td>2020</td>\n",
       "      <td>2</td>\n",
       "      <td>29</td>\n",
       "      <td>20</td>\n",
       "    </tr>\n",
       "    <tr>\n",
       "      <th>731</th>\n",
       "      <td>Organizing a virtual talent show during challe...</td>\n",
       "      <td>Happy</td>\n",
       "      <td>2020-11-15 15:15:00</td>\n",
       "      <td>VirtualTalentShowSuccessHighSchool</td>\n",
       "      <td>Instagram</td>\n",
       "      <td>#VirtualEntertainment #HighSchoolPositivity</td>\n",
       "      <td>24.0</td>\n",
       "      <td>47.0</td>\n",
       "      <td>USA</td>\n",
       "      <td>2020</td>\n",
       "      <td>11</td>\n",
       "      <td>15</td>\n",
       "      <td>15</td>\n",
       "    </tr>\n",
       "  </tbody>\n",
       "</table>\n",
       "</div>"
      ],
      "text/plain": [
       "                                                  Text Sentiment  \\\n",
       "727  Collaborating on a science project that receiv...    Happy    \n",
       "728  Attending a surprise birthday party organized ...    Happy    \n",
       "729  Successfully fundraising for a school charity ...    Happy    \n",
       "730  Participating in a multicultural festival, cel...    Happy    \n",
       "731  Organizing a virtual talent show during challe...    Happy    \n",
       "\n",
       "               Timestamp                                   User     Platform  \\\n",
       "727  2017-08-18 18:20:00       ScienceProjectSuccessHighSchool     Facebook    \n",
       "728  2018-06-22 14:15:00            BirthdayPartyJoyHighSchool    Instagram    \n",
       "729  2019-04-05 17:30:00   CharityFundraisingTriumphHighSchool      Twitter    \n",
       "730  2020-02-29 20:45:00    MulticulturalFestivalJoyHighSchool     Facebook    \n",
       "731  2020-11-15 15:15:00    VirtualTalentShowSuccessHighSchool    Instagram    \n",
       "\n",
       "                                          Hashtags  Retweets  Likes  Country  \\\n",
       "727         #ScienceFairWinner #HighSchoolScience       20.0   39.0       UK   \n",
       "728    #SurpriseCelebration #HighSchoolFriendship       25.0   48.0      USA   \n",
       "729      #CommunityGiving #HighSchoolPhilanthropy       22.0   42.0   Canada   \n",
       "730         #CulturalCelebration #HighSchoolUnity       21.0   43.0       UK   \n",
       "731   #VirtualEntertainment #HighSchoolPositivity       24.0   47.0      USA   \n",
       "\n",
       "     Year  Month  Day  Hour  \n",
       "727  2017      8   18    18  \n",
       "728  2018      6   22    14  \n",
       "729  2019      4    5    17  \n",
       "730  2020      2   29    20  \n",
       "731  2020     11   15    15  "
      ]
     },
     "execution_count": 24,
     "metadata": {},
     "output_type": "execute_result"
    }
   ],
   "source": [
    "# inspect dataset tail\n",
    "df.tail()"
   ]
  },
  {
   "cell_type": "code",
   "execution_count": 27,
   "id": "c595006c-fb46-4c12-bf4e-ad011bbbe2e9",
   "metadata": {},
   "outputs": [
    {
     "data": {
      "text/html": [
       "<div>\n",
       "<style scoped>\n",
       "    .dataframe tbody tr th:only-of-type {\n",
       "        vertical-align: middle;\n",
       "    }\n",
       "\n",
       "    .dataframe tbody tr th {\n",
       "        vertical-align: top;\n",
       "    }\n",
       "\n",
       "    .dataframe thead th {\n",
       "        text-align: right;\n",
       "    }\n",
       "</style>\n",
       "<table border=\"1\" class=\"dataframe\">\n",
       "  <thead>\n",
       "    <tr style=\"text-align: right;\">\n",
       "      <th></th>\n",
       "      <th>Retweets</th>\n",
       "      <th>Likes</th>\n",
       "      <th>Year</th>\n",
       "      <th>Month</th>\n",
       "      <th>Day</th>\n",
       "      <th>Hour</th>\n",
       "    </tr>\n",
       "  </thead>\n",
       "  <tbody>\n",
       "    <tr>\n",
       "      <th>count</th>\n",
       "      <td>732.000000</td>\n",
       "      <td>732.000000</td>\n",
       "      <td>732.000000</td>\n",
       "      <td>732.000000</td>\n",
       "      <td>732.000000</td>\n",
       "      <td>732.000000</td>\n",
       "    </tr>\n",
       "    <tr>\n",
       "      <th>mean</th>\n",
       "      <td>21.508197</td>\n",
       "      <td>42.901639</td>\n",
       "      <td>2020.471311</td>\n",
       "      <td>6.122951</td>\n",
       "      <td>15.497268</td>\n",
       "      <td>15.521858</td>\n",
       "    </tr>\n",
       "    <tr>\n",
       "      <th>std</th>\n",
       "      <td>7.061286</td>\n",
       "      <td>14.089848</td>\n",
       "      <td>2.802285</td>\n",
       "      <td>3.411763</td>\n",
       "      <td>8.474553</td>\n",
       "      <td>4.113414</td>\n",
       "    </tr>\n",
       "    <tr>\n",
       "      <th>min</th>\n",
       "      <td>5.000000</td>\n",
       "      <td>10.000000</td>\n",
       "      <td>2010.000000</td>\n",
       "      <td>1.000000</td>\n",
       "      <td>1.000000</td>\n",
       "      <td>0.000000</td>\n",
       "    </tr>\n",
       "    <tr>\n",
       "      <th>25%</th>\n",
       "      <td>17.750000</td>\n",
       "      <td>34.750000</td>\n",
       "      <td>2019.000000</td>\n",
       "      <td>3.000000</td>\n",
       "      <td>9.000000</td>\n",
       "      <td>13.000000</td>\n",
       "    </tr>\n",
       "    <tr>\n",
       "      <th>50%</th>\n",
       "      <td>22.000000</td>\n",
       "      <td>43.000000</td>\n",
       "      <td>2021.000000</td>\n",
       "      <td>6.000000</td>\n",
       "      <td>15.000000</td>\n",
       "      <td>16.000000</td>\n",
       "    </tr>\n",
       "    <tr>\n",
       "      <th>75%</th>\n",
       "      <td>25.000000</td>\n",
       "      <td>50.000000</td>\n",
       "      <td>2023.000000</td>\n",
       "      <td>9.000000</td>\n",
       "      <td>22.000000</td>\n",
       "      <td>19.000000</td>\n",
       "    </tr>\n",
       "    <tr>\n",
       "      <th>max</th>\n",
       "      <td>40.000000</td>\n",
       "      <td>80.000000</td>\n",
       "      <td>2023.000000</td>\n",
       "      <td>12.000000</td>\n",
       "      <td>31.000000</td>\n",
       "      <td>23.000000</td>\n",
       "    </tr>\n",
       "  </tbody>\n",
       "</table>\n",
       "</div>"
      ],
      "text/plain": [
       "         Retweets       Likes         Year       Month         Day        Hour\n",
       "count  732.000000  732.000000   732.000000  732.000000  732.000000  732.000000\n",
       "mean    21.508197   42.901639  2020.471311    6.122951   15.497268   15.521858\n",
       "std      7.061286   14.089848     2.802285    3.411763    8.474553    4.113414\n",
       "min      5.000000   10.000000  2010.000000    1.000000    1.000000    0.000000\n",
       "25%     17.750000   34.750000  2019.000000    3.000000    9.000000   13.000000\n",
       "50%     22.000000   43.000000  2021.000000    6.000000   15.000000   16.000000\n",
       "75%     25.000000   50.000000  2023.000000    9.000000   22.000000   19.000000\n",
       "max     40.000000   80.000000  2023.000000   12.000000   31.000000   23.000000"
      ]
     },
     "execution_count": 27,
     "metadata": {},
     "output_type": "execute_result"
    }
   ],
   "source": [
    "# descriptive statistics\n",
    "df.describe()"
   ]
  },
  {
   "cell_type": "code",
   "execution_count": 28,
   "id": "20335185-2824-4f11-a882-53eac29e9ec0",
   "metadata": {},
   "outputs": [
    {
     "name": "stdout",
     "output_type": "stream",
     "text": [
      "<class 'pandas.core.frame.DataFrame'>\n",
      "RangeIndex: 732 entries, 0 to 731\n",
      "Data columns (total 13 columns):\n",
      " #   Column     Non-Null Count  Dtype  \n",
      "---  ------     --------------  -----  \n",
      " 0   Text       732 non-null    object \n",
      " 1   Sentiment  732 non-null    object \n",
      " 2   Timestamp  732 non-null    object \n",
      " 3   User       732 non-null    object \n",
      " 4   Platform   732 non-null    object \n",
      " 5   Hashtags   732 non-null    object \n",
      " 6   Retweets   732 non-null    float64\n",
      " 7   Likes      732 non-null    float64\n",
      " 8   Country    732 non-null    object \n",
      " 9   Year       732 non-null    int64  \n",
      " 10  Month      732 non-null    int64  \n",
      " 11  Day        732 non-null    int64  \n",
      " 12  Hour       732 non-null    int64  \n",
      "dtypes: float64(2), int64(4), object(7)\n",
      "memory usage: 74.5+ KB\n"
     ]
    }
   ],
   "source": [
    "# dataset info\n",
    "df.info()"
   ]
  },
  {
   "cell_type": "code",
   "execution_count": 34,
   "id": "f7e6511d-369c-4c02-a9c8-eee980f38bcf",
   "metadata": {},
   "outputs": [
    {
     "name": "stdout",
     "output_type": "stream",
     "text": [
      "<class 'pandas.core.frame.DataFrame'>\n",
      "RangeIndex: 732 entries, 0 to 731\n",
      "Data columns (total 13 columns):\n",
      " #   Column     Non-Null Count  Dtype         \n",
      "---  ------     --------------  -----         \n",
      " 0   Text       732 non-null    object        \n",
      " 1   Sentiment  732 non-null    object        \n",
      " 2   Timestamp  732 non-null    datetime64[ns]\n",
      " 3   User       732 non-null    object        \n",
      " 4   Platform   732 non-null    object        \n",
      " 5   Hashtags   732 non-null    object        \n",
      " 6   Retweets   732 non-null    float64       \n",
      " 7   Likes      732 non-null    float64       \n",
      " 8   Country    732 non-null    object        \n",
      " 9   Year       732 non-null    int64         \n",
      " 10  Month      732 non-null    int64         \n",
      " 11  Day        732 non-null    int64         \n",
      " 12  Hour       732 non-null    int64         \n",
      "dtypes: datetime64[ns](1), float64(2), int64(4), object(6)\n",
      "memory usage: 74.5+ KB\n"
     ]
    }
   ],
   "source": [
    "# convert timestamp to datetime \n",
    "df['Timestamp'] = pd.to_datetime(df['Timestamp'])\n",
    "df.info()"
   ]
  },
  {
   "cell_type": "code",
   "execution_count": 36,
   "id": "ff53bad3-ca66-429d-9f0e-48a72b200acd",
   "metadata": {},
   "outputs": [
    {
     "data": {
      "text/plain": [
       "(732, 13)"
      ]
     },
     "execution_count": 36,
     "metadata": {},
     "output_type": "execute_result"
    }
   ],
   "source": [
    "# data shape\n",
    "df.shape"
   ]
  },
  {
   "cell_type": "code",
   "execution_count": 38,
   "id": "65792a58-2bed-4440-9eb6-97082f64c876",
   "metadata": {},
   "outputs": [
    {
     "data": {
      "text/plain": [
       "Text         0\n",
       "Sentiment    0\n",
       "Timestamp    0\n",
       "User         0\n",
       "Platform     0\n",
       "Hashtags     0\n",
       "Retweets     0\n",
       "Likes        0\n",
       "Country      0\n",
       "Year         0\n",
       "Month        0\n",
       "Day          0\n",
       "Hour         0\n",
       "dtype: int64"
      ]
     },
     "execution_count": 38,
     "metadata": {},
     "output_type": "execute_result"
    }
   ],
   "source": [
    "# check for null values\n",
    "df.isnull().sum()"
   ]
  },
  {
   "cell_type": "markdown",
   "id": "d5ab9370-a5d3-44f3-946a-d262febe47ee",
   "metadata": {},
   "source": [
    "### **Univariate Data Analysis**"
   ]
  },
  {
   "cell_type": "code",
   "execution_count": 41,
   "id": "4db59257-7510-49e1-88de-efde19110a94",
   "metadata": {},
   "outputs": [
    {
     "data": {
      "text/plain": [
       "Index(['Text', 'Sentiment', 'Timestamp', 'User', 'Platform', 'Hashtags',\n",
       "       'Retweets', 'Likes', 'Country', 'Year', 'Month', 'Day', 'Hour'],\n",
       "      dtype='object')"
      ]
     },
     "execution_count": 41,
     "metadata": {},
     "output_type": "execute_result"
    }
   ],
   "source": [
    "df.columns"
   ]
  },
  {
   "cell_type": "code",
   "execution_count": 45,
   "id": "422f6583-0d83-4d4a-aa06-7834b32aa0fa",
   "metadata": {},
   "outputs": [
    {
     "data": {
      "text/plain": [
       "array([' Positive  ', ' Negative  ', ' Neutral   ', ' Anger        ',\n",
       "       ' Fear         ', ' Sadness      ', ' Disgust      ',\n",
       "       ' Happiness    ', ' Joy          ', ' Love         ',\n",
       "       ' Amusement    ', ' Enjoyment    ', ' Admiration   ',\n",
       "       ' Affection    ', ' Awe          ', ' Disappointed ',\n",
       "       ' Surprise     ', ' Acceptance   ', ' Adoration    ',\n",
       "       ' Anticipation ', ' Bitter       ', ' Calmness     ',\n",
       "       ' Confusion    ', ' Excitement   ', ' Kind         ',\n",
       "       ' Pride        ', ' Shame        ', ' Confusion ', ' Excitement ',\n",
       "       ' Shame ', ' Elation       ', ' Euphoria      ', ' Contentment   ',\n",
       "       ' Serenity      ', ' Gratitude     ', ' Hope          ',\n",
       "       ' Empowerment   ', ' Compassion    ', ' Tenderness    ',\n",
       "       ' Arousal       ', ' Enthusiasm    ', ' Fulfillment  ',\n",
       "       ' Reverence     ', ' Compassion', ' Fulfillment   ', ' Reverence ',\n",
       "       ' Elation   ', ' Despair         ', ' Grief           ',\n",
       "       ' Loneliness      ', ' Jealousy        ', ' Resentment      ',\n",
       "       ' Frustration     ', ' Boredom         ', ' Anxiety         ',\n",
       "       ' Intimidation    ', ' Helplessness    ', ' Envy            ',\n",
       "       ' Regret         ', ' Disgust         ', ' Despair      ',\n",
       "       ' Loneliness ', ' Frustration ', ' Anxiety   ', ' Intimidation ',\n",
       "       ' Helplessness ', ' Jealousy    ', ' Curiosity       ',\n",
       "       ' Indifference    ', ' Confusion       ', ' Numbness        ',\n",
       "       ' Melancholy      ', ' Nostalgia       ', ' Ambivalence     ',\n",
       "       ' Acceptance      ', ' Determination   ', ' Serenity        ',\n",
       "       ' Numbness ', ' Zest ', ' Contentment ', ' Hopeful ', ' Proud ',\n",
       "       ' Grateful ', ' Empathetic ', ' Compassionate ', ' Playful ',\n",
       "       ' Free-spirited ', ' Inspired ', ' Confident ', ' Serenity ',\n",
       "       ' Curiosity ', ' Ambivalence ', ' Despair ', ' Bitterness ',\n",
       "       ' Yearning ', ' Fearful ', ' Apprehensive ', ' Overwhelmed ',\n",
       "       ' Jealous ', ' Devastated ', ' Frustrated ', ' Envious ',\n",
       "       ' Dismissive ', ' Awe           ', ' Determination ',\n",
       "       ' Nostalgia      ', ' Thrill        ', ' Calmness      ',\n",
       "       ' Overwhelmed   ', ' Gratitude   ', ' Bittersweet ',\n",
       "       ' Curiosity     ', ' Admiration    ', ' Overjoyed     ',\n",
       "       ' Inspiration   ', ' Motivation    ', ' Amusement     ',\n",
       "       ' Contemplation ', ' JoyfulReunion ', ' Excitement    ',\n",
       "       ' Satisfaction  ', ' Blessed       ', ' Anticipation  ',\n",
       "       ' Reflection    ', ' Nostalgia     ', ' Appreciation  ',\n",
       "       ' Confidence    ', ' Surprise      ', ' Accomplishment ',\n",
       "       ' Wonderment    ', ' Optimism      ', ' Pride         ',\n",
       "       ' Happiness     ', ' Curiosity   ', ' Enchantment   ',\n",
       "       ' Intrigue      ', ' PlayfulJoy    ', ' Mindfulness   ',\n",
       "       ' DreamChaser   ', ' Elegance ', ' Whimsy        ', ' Pensive ',\n",
       "       ' Thrill      ', ' Harmony    ', ' Creativity   ', ' Radiance    ',\n",
       "       ' Wonder     ', ' Rejuvenation ', ' Inspiration ',\n",
       "       ' Coziness     ', ' Gratitude  ', ' Adventure ', ' Euphoria   ',\n",
       "       ' Awe    ', ' Melodic       ', ' FestiveJoy    ',\n",
       "       ' InnerJourney  ', ' Freedom       ', ' Dazzle        ',\n",
       "       ' Adrenaline     ', ' Harmony       ', ' ArtisticBurst ',\n",
       "       ' Radiance      ', ' Wonder       ', ' Inspiration  ',\n",
       "       ' CulinaryOdyssey ', ' Euphoria     ', ' Curiosity  ',\n",
       "       ' Resilience   ', ' Immersion ', ' Nostalgia ', ' Spark        ',\n",
       "       ' Gratitude    ', ' Marvel       ', ' Serenity   ',\n",
       "       ' Heartbreak    ', ' Loneliness    ', ' Grief      ',\n",
       "       ' Despair   ', ' Betrayal      ', ' Suffering ',\n",
       "       ' EmotionalStorm ', ' Regret        ', ' Isolation ',\n",
       "       ' Disappointment ', ' LostLove ', ' Melancholy ', ' Exhaustion ',\n",
       "       ' Sorrow      ', ' Darkness     ', ' Desperation ', ' Ruins      ',\n",
       "       ' Desolation ', ' Regret ', ' Grief ', ' Heartbreak ',\n",
       "       ' Betrayal ', ' Resilience ', ' Sorrow ', ' Loss ', ' Heartache ',\n",
       "       ' Solitude ', ' Joy ', ' Happiness ', ' Enthusiasm ',\n",
       "       ' Gratitude ', ' Positivity ', ' Kindness ', ' Friendship ',\n",
       "       ' Love ', ' Surprise ', ' Success ', ' Thrill ', ' Reflection ',\n",
       "       ' Enchantment ', ' Exploration ', ' Awe ', ' Amazement ',\n",
       "       ' Romance ', ' Captivation ', ' Wonder ', ' Tranquility ',\n",
       "       ' Grandeur ', ' Emotion ', ' Energy ', ' Celebration ', ' Charm ',\n",
       "       ' Ecstasy ', ' Hope ', ' Creativity ', ' Colorful ', ' Pride ',\n",
       "       ' Hypnotic ', ' Connection ', ' Iconic ', ' Euphoria ',\n",
       "       ' Journey ', ' Engagement ', ' Touched ', ' Suspense ',\n",
       "       ' Satisfaction ', ' Admiration ', ' Triumph ', ' Heartwarming ',\n",
       "       ' Obstacle ', ' Sympathy ', ' Pressure ', ' Renewed Effort ',\n",
       "       ' Miscalculation ', ' Challenge ', ' Solace ', ' Breakthrough ',\n",
       "       ' Harmony ', ' Joy in Baking ', ' Envisioning History ',\n",
       "       ' Imagination ', ' Vibrancy ', ' Mesmerizing ',\n",
       "       ' Culinary Adventure ', ' Winter Magic ', ' Thrilling Journey ',\n",
       "       \" Nature's Beauty \", ' Celestial Wonder ',\n",
       "       ' Creative Inspiration ', ' Runway Creativity ',\n",
       "       \" Ocean's Freedom \", ' Whispers of the Past ', ' Boredom ',\n",
       "       ' Indifference ', ' Disgust ', ' Relief ', ' Positive ',\n",
       "       ' Embarrassed ', ' Mischievous ', ' Sad ', ' Hate ', ' Bad ',\n",
       "       ' Neutral ', ' Happy '], dtype=object)"
      ]
     },
     "execution_count": 45,
     "metadata": {},
     "output_type": "execute_result"
    }
   ],
   "source": [
    "df['Sentiment'].unique()"
   ]
  },
  {
   "cell_type": "code",
   "execution_count": null,
   "id": "f2669c3e-5d6d-410d-82bc-ab4f4e8b57f8",
   "metadata": {},
   "outputs": [],
   "source": []
  }
 ],
 "metadata": {
  "kernelspec": {
   "display_name": "Python 3 (ipykernel)",
   "language": "python",
   "name": "python3"
  },
  "language_info": {
   "codemirror_mode": {
    "name": "ipython",
    "version": 3
   },
   "file_extension": ".py",
   "mimetype": "text/x-python",
   "name": "python",
   "nbconvert_exporter": "python",
   "pygments_lexer": "ipython3",
   "version": "3.13.5"
  }
 },
 "nbformat": 4,
 "nbformat_minor": 5
}
