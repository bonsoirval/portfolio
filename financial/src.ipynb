{
 "cells": [
  {
   "cell_type": "markdown",
   "id": "d669b7f9",
   "metadata": {},
   "source": [
    "# **Financial Risk Data Analysis**"
   ]
  },
  {
   "cell_type": "code",
   "execution_count": 1,
   "id": "c617be9a",
   "metadata": {},
   "outputs": [],
   "source": [
    "# import libraries\n",
    "import numpy as np\n",
    "import pandas as pd \n",
    "import matplotlib.pyplot as plt"
   ]
  },
  {
   "cell_type": "markdown",
   "id": "c6002dea",
   "metadata": {},
   "source": [
    "Load dataset"
   ]
  },
  {
   "cell_type": "code",
   "execution_count": 2,
   "id": "260eabaf",
   "metadata": {},
   "outputs": [
    {
     "data": {
      "text/plain": [
       "Index(['Age', 'Gender', 'Education Level', 'Marital Status', 'Income',\n",
       "       'Credit Score', 'Loan Amount', 'Loan Purpose', 'Employment Status',\n",
       "       'Years at Current Job', 'Payment History', 'Debt-to-Income Ratio',\n",
       "       'Assets Value', 'Number of Dependents', 'City', 'State', 'Country',\n",
       "       'Previous Defaults', 'Marital Status Change', 'Risk Rating'],\n",
       "      dtype='object')"
      ]
     },
     "execution_count": 2,
     "metadata": {},
     "output_type": "execute_result"
    }
   ],
   "source": [
    "# import dataset\n",
    "df = pd.read_csv('datasets/financial_risk_assessment.csv')\n",
    "\n",
    "# check column names\n",
    "df.columns"
   ]
  },
  {
   "cell_type": "markdown",
   "id": "ff86b15e",
   "metadata": {},
   "source": [
    "# **Preprocessing**"
   ]
  },
  {
   "cell_type": "markdown",
   "id": "6e8836ca",
   "metadata": {},
   "source": [
    "Data shape"
   ]
  },
  {
   "cell_type": "code",
   "execution_count": 3,
   "id": "f3b769e6",
   "metadata": {},
   "outputs": [
    {
     "data": {
      "text/plain": [
       "(15000, 20)"
      ]
     },
     "execution_count": 3,
     "metadata": {},
     "output_type": "execute_result"
    }
   ],
   "source": [
    "# dataset shape\n",
    "df.shape"
   ]
  },
  {
   "cell_type": "markdown",
   "id": "d4be394a",
   "metadata": {},
   "source": [
    "Feature standardization"
   ]
  },
  {
   "cell_type": "code",
   "execution_count": 4,
   "id": "fcba5093",
   "metadata": {},
   "outputs": [
    {
     "data": {
      "text/plain": [
       "Index(['age', 'gender', 'education_level', 'marital_status', 'income',\n",
       "       'credit_score', 'loan_amount', 'loan_purpose', 'employment_status',\n",
       "       'years_at_current_job', 'payment_history', 'debt_to_income_ratio',\n",
       "       'assets_value', 'number_of_dependents', 'city', 'state', 'country',\n",
       "       'previous_defaults', 'marital_status_change', 'risk_rating'],\n",
       "      dtype='object')"
      ]
     },
     "execution_count": 4,
     "metadata": {},
     "output_type": "execute_result"
    }
   ],
   "source": [
    "# convert all column names to lower case and replace spaces and dashes with underscore\n",
    "df.columns = [col.replace(\" \", '_').replace(\"-\", \"_\").lower() for col in df.columns]\n",
    "df.columns"
   ]
  },
  {
   "cell_type": "markdown",
   "id": "b474d7c2",
   "metadata": {},
   "source": [
    "Inspect first and last five rows"
   ]
  },
  {
   "cell_type": "code",
   "execution_count": 5,
   "id": "124c76f2",
   "metadata": {},
   "outputs": [
    {
     "data": {
      "text/html": [
       "<div>\n",
       "<style scoped>\n",
       "    .dataframe tbody tr th:only-of-type {\n",
       "        vertical-align: middle;\n",
       "    }\n",
       "\n",
       "    .dataframe tbody tr th {\n",
       "        vertical-align: top;\n",
       "    }\n",
       "\n",
       "    .dataframe thead th {\n",
       "        text-align: right;\n",
       "    }\n",
       "</style>\n",
       "<table border=\"1\" class=\"dataframe\">\n",
       "  <thead>\n",
       "    <tr style=\"text-align: right;\">\n",
       "      <th></th>\n",
       "      <th>age</th>\n",
       "      <th>gender</th>\n",
       "      <th>education_level</th>\n",
       "      <th>marital_status</th>\n",
       "      <th>income</th>\n",
       "      <th>credit_score</th>\n",
       "      <th>loan_amount</th>\n",
       "      <th>loan_purpose</th>\n",
       "      <th>employment_status</th>\n",
       "      <th>years_at_current_job</th>\n",
       "      <th>payment_history</th>\n",
       "      <th>debt_to_income_ratio</th>\n",
       "      <th>assets_value</th>\n",
       "      <th>number_of_dependents</th>\n",
       "      <th>city</th>\n",
       "      <th>state</th>\n",
       "      <th>country</th>\n",
       "      <th>previous_defaults</th>\n",
       "      <th>marital_status_change</th>\n",
       "      <th>risk_rating</th>\n",
       "    </tr>\n",
       "  </thead>\n",
       "  <tbody>\n",
       "    <tr>\n",
       "      <th>0</th>\n",
       "      <td>49</td>\n",
       "      <td>Male</td>\n",
       "      <td>PhD</td>\n",
       "      <td>Divorced</td>\n",
       "      <td>72799.0</td>\n",
       "      <td>688.0</td>\n",
       "      <td>45713.0</td>\n",
       "      <td>Business</td>\n",
       "      <td>Unemployed</td>\n",
       "      <td>19</td>\n",
       "      <td>Poor</td>\n",
       "      <td>0.154313</td>\n",
       "      <td>120228.0</td>\n",
       "      <td>0.0</td>\n",
       "      <td>Port Elizabeth</td>\n",
       "      <td>AS</td>\n",
       "      <td>Cyprus</td>\n",
       "      <td>2.0</td>\n",
       "      <td>2</td>\n",
       "      <td>Low</td>\n",
       "    </tr>\n",
       "    <tr>\n",
       "      <th>1</th>\n",
       "      <td>57</td>\n",
       "      <td>Female</td>\n",
       "      <td>Bachelor's</td>\n",
       "      <td>Widowed</td>\n",
       "      <td>NaN</td>\n",
       "      <td>690.0</td>\n",
       "      <td>33835.0</td>\n",
       "      <td>Auto</td>\n",
       "      <td>Employed</td>\n",
       "      <td>6</td>\n",
       "      <td>Fair</td>\n",
       "      <td>0.148920</td>\n",
       "      <td>55849.0</td>\n",
       "      <td>0.0</td>\n",
       "      <td>North Catherine</td>\n",
       "      <td>OH</td>\n",
       "      <td>Turkmenistan</td>\n",
       "      <td>3.0</td>\n",
       "      <td>2</td>\n",
       "      <td>Medium</td>\n",
       "    </tr>\n",
       "    <tr>\n",
       "      <th>2</th>\n",
       "      <td>21</td>\n",
       "      <td>Non-binary</td>\n",
       "      <td>Master's</td>\n",
       "      <td>Single</td>\n",
       "      <td>55687.0</td>\n",
       "      <td>600.0</td>\n",
       "      <td>36623.0</td>\n",
       "      <td>Home</td>\n",
       "      <td>Employed</td>\n",
       "      <td>8</td>\n",
       "      <td>Fair</td>\n",
       "      <td>0.362398</td>\n",
       "      <td>180700.0</td>\n",
       "      <td>3.0</td>\n",
       "      <td>South Scott</td>\n",
       "      <td>OK</td>\n",
       "      <td>Luxembourg</td>\n",
       "      <td>3.0</td>\n",
       "      <td>2</td>\n",
       "      <td>Medium</td>\n",
       "    </tr>\n",
       "    <tr>\n",
       "      <th>3</th>\n",
       "      <td>59</td>\n",
       "      <td>Male</td>\n",
       "      <td>Bachelor's</td>\n",
       "      <td>Single</td>\n",
       "      <td>26508.0</td>\n",
       "      <td>622.0</td>\n",
       "      <td>26541.0</td>\n",
       "      <td>Personal</td>\n",
       "      <td>Unemployed</td>\n",
       "      <td>2</td>\n",
       "      <td>Excellent</td>\n",
       "      <td>0.454964</td>\n",
       "      <td>157319.0</td>\n",
       "      <td>3.0</td>\n",
       "      <td>Robinhaven</td>\n",
       "      <td>PR</td>\n",
       "      <td>Uganda</td>\n",
       "      <td>4.0</td>\n",
       "      <td>2</td>\n",
       "      <td>Medium</td>\n",
       "    </tr>\n",
       "    <tr>\n",
       "      <th>4</th>\n",
       "      <td>25</td>\n",
       "      <td>Non-binary</td>\n",
       "      <td>Bachelor's</td>\n",
       "      <td>Widowed</td>\n",
       "      <td>49427.0</td>\n",
       "      <td>766.0</td>\n",
       "      <td>36528.0</td>\n",
       "      <td>Personal</td>\n",
       "      <td>Unemployed</td>\n",
       "      <td>10</td>\n",
       "      <td>Fair</td>\n",
       "      <td>0.143242</td>\n",
       "      <td>287140.0</td>\n",
       "      <td>NaN</td>\n",
       "      <td>New Heather</td>\n",
       "      <td>IL</td>\n",
       "      <td>Namibia</td>\n",
       "      <td>3.0</td>\n",
       "      <td>1</td>\n",
       "      <td>Low</td>\n",
       "    </tr>\n",
       "  </tbody>\n",
       "</table>\n",
       "</div>"
      ],
      "text/plain": [
       "   age      gender education_level marital_status   income  credit_score  \\\n",
       "0   49        Male             PhD       Divorced  72799.0         688.0   \n",
       "1   57      Female      Bachelor's        Widowed      NaN         690.0   \n",
       "2   21  Non-binary        Master's         Single  55687.0         600.0   \n",
       "3   59        Male      Bachelor's         Single  26508.0         622.0   \n",
       "4   25  Non-binary      Bachelor's        Widowed  49427.0         766.0   \n",
       "\n",
       "   loan_amount loan_purpose employment_status  years_at_current_job  \\\n",
       "0      45713.0     Business        Unemployed                    19   \n",
       "1      33835.0         Auto          Employed                     6   \n",
       "2      36623.0         Home          Employed                     8   \n",
       "3      26541.0     Personal        Unemployed                     2   \n",
       "4      36528.0     Personal        Unemployed                    10   \n",
       "\n",
       "  payment_history  debt_to_income_ratio  assets_value  number_of_dependents  \\\n",
       "0            Poor              0.154313      120228.0                   0.0   \n",
       "1            Fair              0.148920       55849.0                   0.0   \n",
       "2            Fair              0.362398      180700.0                   3.0   \n",
       "3       Excellent              0.454964      157319.0                   3.0   \n",
       "4            Fair              0.143242      287140.0                   NaN   \n",
       "\n",
       "              city state       country  previous_defaults  \\\n",
       "0   Port Elizabeth    AS        Cyprus                2.0   \n",
       "1  North Catherine    OH  Turkmenistan                3.0   \n",
       "2      South Scott    OK    Luxembourg                3.0   \n",
       "3       Robinhaven    PR        Uganda                4.0   \n",
       "4      New Heather    IL       Namibia                3.0   \n",
       "\n",
       "   marital_status_change risk_rating  \n",
       "0                      2         Low  \n",
       "1                      2      Medium  \n",
       "2                      2      Medium  \n",
       "3                      2      Medium  \n",
       "4                      1         Low  "
      ]
     },
     "execution_count": 5,
     "metadata": {},
     "output_type": "execute_result"
    }
   ],
   "source": [
    "# inspect first five entries\n",
    "df.head()"
   ]
  },
  {
   "cell_type": "code",
   "execution_count": 6,
   "id": "eab148fa",
   "metadata": {},
   "outputs": [
    {
     "data": {
      "text/html": [
       "<div>\n",
       "<style scoped>\n",
       "    .dataframe tbody tr th:only-of-type {\n",
       "        vertical-align: middle;\n",
       "    }\n",
       "\n",
       "    .dataframe tbody tr th {\n",
       "        vertical-align: top;\n",
       "    }\n",
       "\n",
       "    .dataframe thead th {\n",
       "        text-align: right;\n",
       "    }\n",
       "</style>\n",
       "<table border=\"1\" class=\"dataframe\">\n",
       "  <thead>\n",
       "    <tr style=\"text-align: right;\">\n",
       "      <th></th>\n",
       "      <th>age</th>\n",
       "      <th>gender</th>\n",
       "      <th>education_level</th>\n",
       "      <th>marital_status</th>\n",
       "      <th>income</th>\n",
       "      <th>credit_score</th>\n",
       "      <th>loan_amount</th>\n",
       "      <th>loan_purpose</th>\n",
       "      <th>employment_status</th>\n",
       "      <th>years_at_current_job</th>\n",
       "      <th>payment_history</th>\n",
       "      <th>debt_to_income_ratio</th>\n",
       "      <th>assets_value</th>\n",
       "      <th>number_of_dependents</th>\n",
       "      <th>city</th>\n",
       "      <th>state</th>\n",
       "      <th>country</th>\n",
       "      <th>previous_defaults</th>\n",
       "      <th>marital_status_change</th>\n",
       "      <th>risk_rating</th>\n",
       "    </tr>\n",
       "  </thead>\n",
       "  <tbody>\n",
       "    <tr>\n",
       "      <th>14995</th>\n",
       "      <td>23</td>\n",
       "      <td>Non-binary</td>\n",
       "      <td>Bachelor's</td>\n",
       "      <td>Widowed</td>\n",
       "      <td>48088.0</td>\n",
       "      <td>609.0</td>\n",
       "      <td>26187.0</td>\n",
       "      <td>Home</td>\n",
       "      <td>Self-employed</td>\n",
       "      <td>2</td>\n",
       "      <td>Fair</td>\n",
       "      <td>0.317633</td>\n",
       "      <td>NaN</td>\n",
       "      <td>4.0</td>\n",
       "      <td>Susanstad</td>\n",
       "      <td>TN</td>\n",
       "      <td>Djibouti</td>\n",
       "      <td>2.0</td>\n",
       "      <td>0</td>\n",
       "      <td>Low</td>\n",
       "    </tr>\n",
       "    <tr>\n",
       "      <th>14996</th>\n",
       "      <td>56</td>\n",
       "      <td>Male</td>\n",
       "      <td>PhD</td>\n",
       "      <td>Single</td>\n",
       "      <td>107193.0</td>\n",
       "      <td>700.0</td>\n",
       "      <td>35111.0</td>\n",
       "      <td>Auto</td>\n",
       "      <td>Self-employed</td>\n",
       "      <td>10</td>\n",
       "      <td>Fair</td>\n",
       "      <td>0.155126</td>\n",
       "      <td>79102.0</td>\n",
       "      <td>NaN</td>\n",
       "      <td>Port Heather</td>\n",
       "      <td>WA</td>\n",
       "      <td>Congo</td>\n",
       "      <td>0.0</td>\n",
       "      <td>0</td>\n",
       "      <td>Medium</td>\n",
       "    </tr>\n",
       "    <tr>\n",
       "      <th>14997</th>\n",
       "      <td>29</td>\n",
       "      <td>Non-binary</td>\n",
       "      <td>PhD</td>\n",
       "      <td>Married</td>\n",
       "      <td>46250.0</td>\n",
       "      <td>642.0</td>\n",
       "      <td>44369.0</td>\n",
       "      <td>Home</td>\n",
       "      <td>Unemployed</td>\n",
       "      <td>19</td>\n",
       "      <td>Excellent</td>\n",
       "      <td>0.593999</td>\n",
       "      <td>196930.0</td>\n",
       "      <td>4.0</td>\n",
       "      <td>South Morganchester</td>\n",
       "      <td>LA</td>\n",
       "      <td>Palau</td>\n",
       "      <td>2.0</td>\n",
       "      <td>1</td>\n",
       "      <td>High</td>\n",
       "    </tr>\n",
       "    <tr>\n",
       "      <th>14998</th>\n",
       "      <td>53</td>\n",
       "      <td>Non-binary</td>\n",
       "      <td>PhD</td>\n",
       "      <td>Divorced</td>\n",
       "      <td>40180.0</td>\n",
       "      <td>638.0</td>\n",
       "      <td>32752.0</td>\n",
       "      <td>Home</td>\n",
       "      <td>Self-employed</td>\n",
       "      <td>12</td>\n",
       "      <td>Excellent</td>\n",
       "      <td>0.478035</td>\n",
       "      <td>276060.0</td>\n",
       "      <td>NaN</td>\n",
       "      <td>Port Wayne</td>\n",
       "      <td>AK</td>\n",
       "      <td>Rwanda</td>\n",
       "      <td>0.0</td>\n",
       "      <td>2</td>\n",
       "      <td>High</td>\n",
       "    </tr>\n",
       "    <tr>\n",
       "      <th>14999</th>\n",
       "      <td>24</td>\n",
       "      <td>Non-binary</td>\n",
       "      <td>Bachelor's</td>\n",
       "      <td>Widowed</td>\n",
       "      <td>NaN</td>\n",
       "      <td>765.0</td>\n",
       "      <td>NaN</td>\n",
       "      <td>Personal</td>\n",
       "      <td>Self-employed</td>\n",
       "      <td>18</td>\n",
       "      <td>Excellent</td>\n",
       "      <td>0.116083</td>\n",
       "      <td>71699.0</td>\n",
       "      <td>3.0</td>\n",
       "      <td>South Stacy</td>\n",
       "      <td>WA</td>\n",
       "      <td>Saint Pierre and Miquelon</td>\n",
       "      <td>3.0</td>\n",
       "      <td>2</td>\n",
       "      <td>Low</td>\n",
       "    </tr>\n",
       "  </tbody>\n",
       "</table>\n",
       "</div>"
      ],
      "text/plain": [
       "       age      gender education_level marital_status    income  credit_score  \\\n",
       "14995   23  Non-binary      Bachelor's        Widowed   48088.0         609.0   \n",
       "14996   56        Male             PhD         Single  107193.0         700.0   \n",
       "14997   29  Non-binary             PhD        Married   46250.0         642.0   \n",
       "14998   53  Non-binary             PhD       Divorced   40180.0         638.0   \n",
       "14999   24  Non-binary      Bachelor's        Widowed       NaN         765.0   \n",
       "\n",
       "       loan_amount loan_purpose employment_status  years_at_current_job  \\\n",
       "14995      26187.0         Home     Self-employed                     2   \n",
       "14996      35111.0         Auto     Self-employed                    10   \n",
       "14997      44369.0         Home        Unemployed                    19   \n",
       "14998      32752.0         Home     Self-employed                    12   \n",
       "14999          NaN     Personal     Self-employed                    18   \n",
       "\n",
       "      payment_history  debt_to_income_ratio  assets_value  \\\n",
       "14995            Fair              0.317633           NaN   \n",
       "14996            Fair              0.155126       79102.0   \n",
       "14997       Excellent              0.593999      196930.0   \n",
       "14998       Excellent              0.478035      276060.0   \n",
       "14999       Excellent              0.116083       71699.0   \n",
       "\n",
       "       number_of_dependents                 city state  \\\n",
       "14995                   4.0            Susanstad    TN   \n",
       "14996                   NaN         Port Heather    WA   \n",
       "14997                   4.0  South Morganchester    LA   \n",
       "14998                   NaN           Port Wayne    AK   \n",
       "14999                   3.0          South Stacy    WA   \n",
       "\n",
       "                         country  previous_defaults  marital_status_change  \\\n",
       "14995                   Djibouti                2.0                      0   \n",
       "14996                      Congo                0.0                      0   \n",
       "14997                      Palau                2.0                      1   \n",
       "14998                     Rwanda                0.0                      2   \n",
       "14999  Saint Pierre and Miquelon                3.0                      2   \n",
       "\n",
       "      risk_rating  \n",
       "14995         Low  \n",
       "14996      Medium  \n",
       "14997        High  \n",
       "14998        High  \n",
       "14999         Low  "
      ]
     },
     "execution_count": 6,
     "metadata": {},
     "output_type": "execute_result"
    }
   ],
   "source": [
    "# inspect last five entries\n",
    "df.tail()"
   ]
  },
  {
   "cell_type": "markdown",
   "id": "19176a67",
   "metadata": {},
   "source": [
    "Check five descriptive statistics"
   ]
  },
  {
   "cell_type": "code",
   "execution_count": 7,
   "id": "b658bed1",
   "metadata": {},
   "outputs": [
    {
     "data": {
      "text/html": [
       "<div>\n",
       "<style scoped>\n",
       "    .dataframe tbody tr th:only-of-type {\n",
       "        vertical-align: middle;\n",
       "    }\n",
       "\n",
       "    .dataframe tbody tr th {\n",
       "        vertical-align: top;\n",
       "    }\n",
       "\n",
       "    .dataframe thead th {\n",
       "        text-align: right;\n",
       "    }\n",
       "</style>\n",
       "<table border=\"1\" class=\"dataframe\">\n",
       "  <thead>\n",
       "    <tr style=\"text-align: right;\">\n",
       "      <th></th>\n",
       "      <th>age</th>\n",
       "      <th>income</th>\n",
       "      <th>credit_score</th>\n",
       "      <th>loan_amount</th>\n",
       "      <th>years_at_current_job</th>\n",
       "      <th>debt_to_income_ratio</th>\n",
       "      <th>assets_value</th>\n",
       "      <th>number_of_dependents</th>\n",
       "      <th>previous_defaults</th>\n",
       "      <th>marital_status_change</th>\n",
       "    </tr>\n",
       "  </thead>\n",
       "  <tbody>\n",
       "    <tr>\n",
       "      <th>count</th>\n",
       "      <td>15000.000000</td>\n",
       "      <td>12750.000000</td>\n",
       "      <td>12750.000000</td>\n",
       "      <td>12750.000000</td>\n",
       "      <td>15000.000000</td>\n",
       "      <td>15000.000000</td>\n",
       "      <td>12750.000000</td>\n",
       "      <td>12750.00000</td>\n",
       "      <td>12750.000000</td>\n",
       "      <td>15000.000000</td>\n",
       "    </tr>\n",
       "    <tr>\n",
       "      <th>mean</th>\n",
       "      <td>43.452667</td>\n",
       "      <td>69933.398510</td>\n",
       "      <td>699.109098</td>\n",
       "      <td>27450.010902</td>\n",
       "      <td>9.476267</td>\n",
       "      <td>0.350438</td>\n",
       "      <td>159741.497176</td>\n",
       "      <td>2.02651</td>\n",
       "      <td>1.992471</td>\n",
       "      <td>0.998467</td>\n",
       "    </tr>\n",
       "    <tr>\n",
       "      <th>std</th>\n",
       "      <td>14.910732</td>\n",
       "      <td>29163.626207</td>\n",
       "      <td>57.229465</td>\n",
       "      <td>12949.940135</td>\n",
       "      <td>5.769707</td>\n",
       "      <td>0.143919</td>\n",
       "      <td>80298.115832</td>\n",
       "      <td>1.41130</td>\n",
       "      <td>1.416909</td>\n",
       "      <td>0.813782</td>\n",
       "    </tr>\n",
       "    <tr>\n",
       "      <th>min</th>\n",
       "      <td>18.000000</td>\n",
       "      <td>20005.000000</td>\n",
       "      <td>600.000000</td>\n",
       "      <td>5000.000000</td>\n",
       "      <td>0.000000</td>\n",
       "      <td>0.100004</td>\n",
       "      <td>20055.000000</td>\n",
       "      <td>0.00000</td>\n",
       "      <td>0.000000</td>\n",
       "      <td>0.000000</td>\n",
       "    </tr>\n",
       "    <tr>\n",
       "      <th>25%</th>\n",
       "      <td>31.000000</td>\n",
       "      <td>44281.500000</td>\n",
       "      <td>650.000000</td>\n",
       "      <td>16352.500000</td>\n",
       "      <td>4.000000</td>\n",
       "      <td>0.227386</td>\n",
       "      <td>90635.250000</td>\n",
       "      <td>1.00000</td>\n",
       "      <td>1.000000</td>\n",
       "      <td>0.000000</td>\n",
       "    </tr>\n",
       "    <tr>\n",
       "      <th>50%</th>\n",
       "      <td>43.000000</td>\n",
       "      <td>69773.000000</td>\n",
       "      <td>699.000000</td>\n",
       "      <td>27544.000000</td>\n",
       "      <td>9.000000</td>\n",
       "      <td>0.350754</td>\n",
       "      <td>159362.000000</td>\n",
       "      <td>2.00000</td>\n",
       "      <td>2.000000</td>\n",
       "      <td>1.000000</td>\n",
       "    </tr>\n",
       "    <tr>\n",
       "      <th>75%</th>\n",
       "      <td>56.000000</td>\n",
       "      <td>95922.750000</td>\n",
       "      <td>748.000000</td>\n",
       "      <td>38547.500000</td>\n",
       "      <td>15.000000</td>\n",
       "      <td>0.476095</td>\n",
       "      <td>228707.000000</td>\n",
       "      <td>3.00000</td>\n",
       "      <td>3.000000</td>\n",
       "      <td>2.000000</td>\n",
       "    </tr>\n",
       "    <tr>\n",
       "      <th>max</th>\n",
       "      <td>69.000000</td>\n",
       "      <td>119997.000000</td>\n",
       "      <td>799.000000</td>\n",
       "      <td>49998.000000</td>\n",
       "      <td>19.000000</td>\n",
       "      <td>0.599970</td>\n",
       "      <td>299999.000000</td>\n",
       "      <td>4.00000</td>\n",
       "      <td>4.000000</td>\n",
       "      <td>2.000000</td>\n",
       "    </tr>\n",
       "  </tbody>\n",
       "</table>\n",
       "</div>"
      ],
      "text/plain": [
       "                age         income  credit_score   loan_amount  \\\n",
       "count  15000.000000   12750.000000  12750.000000  12750.000000   \n",
       "mean      43.452667   69933.398510    699.109098  27450.010902   \n",
       "std       14.910732   29163.626207     57.229465  12949.940135   \n",
       "min       18.000000   20005.000000    600.000000   5000.000000   \n",
       "25%       31.000000   44281.500000    650.000000  16352.500000   \n",
       "50%       43.000000   69773.000000    699.000000  27544.000000   \n",
       "75%       56.000000   95922.750000    748.000000  38547.500000   \n",
       "max       69.000000  119997.000000    799.000000  49998.000000   \n",
       "\n",
       "       years_at_current_job  debt_to_income_ratio   assets_value  \\\n",
       "count          15000.000000          15000.000000   12750.000000   \n",
       "mean               9.476267              0.350438  159741.497176   \n",
       "std                5.769707              0.143919   80298.115832   \n",
       "min                0.000000              0.100004   20055.000000   \n",
       "25%                4.000000              0.227386   90635.250000   \n",
       "50%                9.000000              0.350754  159362.000000   \n",
       "75%               15.000000              0.476095  228707.000000   \n",
       "max               19.000000              0.599970  299999.000000   \n",
       "\n",
       "       number_of_dependents  previous_defaults  marital_status_change  \n",
       "count           12750.00000       12750.000000           15000.000000  \n",
       "mean                2.02651           1.992471               0.998467  \n",
       "std                 1.41130           1.416909               0.813782  \n",
       "min                 0.00000           0.000000               0.000000  \n",
       "25%                 1.00000           1.000000               0.000000  \n",
       "50%                 2.00000           2.000000               1.000000  \n",
       "75%                 3.00000           3.000000               2.000000  \n",
       "max                 4.00000           4.000000               2.000000  "
      ]
     },
     "execution_count": 7,
     "metadata": {},
     "output_type": "execute_result"
    }
   ],
   "source": [
    "# descriptive statistics\n",
    "df.describe()"
   ]
  },
  {
   "cell_type": "markdown",
   "id": "f7eefbbb",
   "metadata": {},
   "source": [
    "Check datatypes and missing values"
   ]
  },
  {
   "cell_type": "code",
   "execution_count": 8,
   "id": "e06c2219",
   "metadata": {},
   "outputs": [
    {
     "name": "stdout",
     "output_type": "stream",
     "text": [
      "<class 'pandas.core.frame.DataFrame'>\n",
      "RangeIndex: 15000 entries, 0 to 14999\n",
      "Data columns (total 20 columns):\n",
      " #   Column                 Non-Null Count  Dtype  \n",
      "---  ------                 --------------  -----  \n",
      " 0   age                    15000 non-null  int64  \n",
      " 1   gender                 15000 non-null  object \n",
      " 2   education_level        15000 non-null  object \n",
      " 3   marital_status         15000 non-null  object \n",
      " 4   income                 12750 non-null  float64\n",
      " 5   credit_score           12750 non-null  float64\n",
      " 6   loan_amount            12750 non-null  float64\n",
      " 7   loan_purpose           15000 non-null  object \n",
      " 8   employment_status      15000 non-null  object \n",
      " 9   years_at_current_job   15000 non-null  int64  \n",
      " 10  payment_history        15000 non-null  object \n",
      " 11  debt_to_income_ratio   15000 non-null  float64\n",
      " 12  assets_value           12750 non-null  float64\n",
      " 13  number_of_dependents   12750 non-null  float64\n",
      " 14  city                   15000 non-null  object \n",
      " 15  state                  15000 non-null  object \n",
      " 16  country                15000 non-null  object \n",
      " 17  previous_defaults      12750 non-null  float64\n",
      " 18  marital_status_change  15000 non-null  int64  \n",
      " 19  risk_rating            15000 non-null  object \n",
      "dtypes: float64(7), int64(3), object(10)\n",
      "memory usage: 2.3+ MB\n"
     ]
    }
   ],
   "source": [
    "# dataset information\n",
    "df.info()"
   ]
  },
  {
   "cell_type": "markdown",
   "id": "3e5034b4",
   "metadata": {},
   "source": [
    "Show number of null values"
   ]
  },
  {
   "cell_type": "code",
   "execution_count": 9,
   "id": "32a73e3d",
   "metadata": {},
   "outputs": [
    {
     "data": {
      "text/plain": [
       "age                         0\n",
       "gender                      0\n",
       "education_level             0\n",
       "marital_status              0\n",
       "income                   2250\n",
       "credit_score             2250\n",
       "loan_amount              2250\n",
       "loan_purpose                0\n",
       "employment_status           0\n",
       "years_at_current_job        0\n",
       "payment_history             0\n",
       "debt_to_income_ratio        0\n",
       "assets_value             2250\n",
       "number_of_dependents     2250\n",
       "city                        0\n",
       "state                       0\n",
       "country                     0\n",
       "previous_defaults        2250\n",
       "marital_status_change       0\n",
       "risk_rating                 0\n",
       "dtype: int64"
      ]
     },
     "execution_count": 9,
     "metadata": {},
     "output_type": "execute_result"
    }
   ],
   "source": [
    "# Show null values\n",
    "df.isna().sum()"
   ]
  },
  {
   "cell_type": "code",
   "execution_count": 10,
   "id": "41ff8de0",
   "metadata": {},
   "outputs": [
    {
     "data": {
      "text/plain": [
       "0         72799.0\n",
       "1             NaN\n",
       "2         55687.0\n",
       "3         26508.0\n",
       "4         49427.0\n",
       "           ...   \n",
       "14995     48088.0\n",
       "14996    107193.0\n",
       "14997     46250.0\n",
       "14998     40180.0\n",
       "14999         NaN\n",
       "Name: income, Length: 15000, dtype: float64"
      ]
     },
     "execution_count": 10,
     "metadata": {},
     "output_type": "execute_result"
    }
   ],
   "source": [
    "# further check on the nature of null values to know how to handle them\n",
    "df['income']"
   ]
  },
  {
   "cell_type": "code",
   "execution_count": 11,
   "id": "cc9a6a1f",
   "metadata": {},
   "outputs": [
    {
     "name": "stdout",
     "output_type": "stream",
     "text": [
      "There are 0 number of under aged\n"
     ]
    }
   ],
   "source": [
    "# Given that, in the bank, under age kids could have accounts and have no income, \n",
    "# checking age and income\n",
    "print(f\"There are {df[df['age'] < 18].count().sum()} number of under aged\")"
   ]
  },
  {
   "cell_type": "markdown",
   "id": "363b1b1b",
   "metadata": {},
   "source": [
    "Drop null values"
   ]
  },
  {
   "cell_type": "code",
   "execution_count": 12,
   "id": "def32219",
   "metadata": {},
   "outputs": [
    {
     "data": {
      "text/plain": [
       "age                         0\n",
       "gender                      0\n",
       "education_level             0\n",
       "marital_status              0\n",
       "income                      0\n",
       "credit_score                0\n",
       "loan_amount              1595\n",
       "loan_purpose                0\n",
       "employment_status           0\n",
       "years_at_current_job        0\n",
       "payment_history             0\n",
       "debt_to_income_ratio        0\n",
       "assets_value             1642\n",
       "number_of_dependents     1603\n",
       "city                        0\n",
       "state                       0\n",
       "country                     0\n",
       "previous_defaults        1649\n",
       "marital_status_change       0\n",
       "risk_rating                 0\n",
       "dtype: int64"
      ]
     },
     "execution_count": 12,
     "metadata": {},
     "output_type": "execute_result"
    }
   ],
   "source": [
    "# dropping  rows with no income\n",
    "df.dropna(subset = ['income', 'credit_score'], inplace=True)\n",
    "df.isna().sum()"
   ]
  },
  {
   "cell_type": "code",
   "execution_count": 13,
   "id": "8405a7f3",
   "metadata": {},
   "outputs": [
    {
     "data": {
      "text/plain": [
       "<bound method Series.unique of 0        120228.0\n",
       "2        180700.0\n",
       "3        157319.0\n",
       "4        287140.0\n",
       "6             NaN\n",
       "           ...   \n",
       "14994     32179.0\n",
       "14995         NaN\n",
       "14996     79102.0\n",
       "14997    196930.0\n",
       "14998    276060.0\n",
       "Name: assets_value, Length: 10834, dtype: float64>"
      ]
     },
     "execution_count": 13,
     "metadata": {},
     "output_type": "execute_result"
    }
   ],
   "source": [
    "df['assets_value'].unique"
   ]
  },
  {
   "cell_type": "code",
   "execution_count": 14,
   "id": "d242b115",
   "metadata": {},
   "outputs": [],
   "source": [
    "# setting nan for assets_value(they might have not assetts),\n",
    "#  number_of_dependents (have no dependent), \n",
    "# loan_amount(have not taken loan before) and previous_defaults to 0\n",
    "value = 0\n",
    "df.fillna(value, inplace = True)"
   ]
  },
  {
   "cell_type": "code",
   "execution_count": 15,
   "id": "4d906f2a",
   "metadata": {},
   "outputs": [
    {
     "data": {
      "text/plain": [
       "age                      0\n",
       "gender                   0\n",
       "education_level          0\n",
       "marital_status           0\n",
       "income                   0\n",
       "credit_score             0\n",
       "loan_amount              0\n",
       "loan_purpose             0\n",
       "employment_status        0\n",
       "years_at_current_job     0\n",
       "payment_history          0\n",
       "debt_to_income_ratio     0\n",
       "assets_value             0\n",
       "number_of_dependents     0\n",
       "city                     0\n",
       "state                    0\n",
       "country                  0\n",
       "previous_defaults        0\n",
       "marital_status_change    0\n",
       "risk_rating              0\n",
       "dtype: int64"
      ]
     },
     "execution_count": 15,
     "metadata": {},
     "output_type": "execute_result"
    }
   ],
   "source": [
    "df.isna().sum()"
   ]
  },
  {
   "cell_type": "markdown",
   "id": "7d029e2d",
   "metadata": {},
   "source": [
    "Convert prevous_defaults, number_of_dependents, assets_value"
   ]
  },
  {
   "cell_type": "code",
   "execution_count": 16,
   "id": "4a36b780",
   "metadata": {},
   "outputs": [
    {
     "name": "stdout",
     "output_type": "stream",
     "text": [
      "<class 'pandas.core.frame.DataFrame'>\n",
      "Index: 10834 entries, 0 to 14998\n",
      "Data columns (total 20 columns):\n",
      " #   Column                 Non-Null Count  Dtype  \n",
      "---  ------                 --------------  -----  \n",
      " 0   age                    10834 non-null  int64  \n",
      " 1   gender                 10834 non-null  object \n",
      " 2   education_level        10834 non-null  object \n",
      " 3   marital_status         10834 non-null  object \n",
      " 4   income                 10834 non-null  float64\n",
      " 5   credit_score           10834 non-null  float64\n",
      " 6   loan_amount            10834 non-null  float64\n",
      " 7   loan_purpose           10834 non-null  object \n",
      " 8   employment_status      10834 non-null  object \n",
      " 9   years_at_current_job   10834 non-null  int64  \n",
      " 10  payment_history        10834 non-null  object \n",
      " 11  debt_to_income_ratio   10834 non-null  float64\n",
      " 12  assets_value           10834 non-null  float64\n",
      " 13  number_of_dependents   10834 non-null  int64  \n",
      " 14  city                   10834 non-null  object \n",
      " 15  state                  10834 non-null  object \n",
      " 16  country                10834 non-null  object \n",
      " 17  previous_defaults      10834 non-null  int64  \n",
      " 18  marital_status_change  10834 non-null  int64  \n",
      " 19  risk_rating            10834 non-null  object \n",
      "dtypes: float64(5), int64(5), object(10)\n",
      "memory usage: 1.7+ MB\n"
     ]
    }
   ],
   "source": [
    "df[['previous_defaults', 'number_of_dependents']] = df[['previous_defaults', 'number_of_dependents']].astype(int)\n",
    "df.info()"
   ]
  },
  {
   "cell_type": "markdown",
   "id": "60eee307",
   "metadata": {},
   "source": [
    "# **Exploratory Data Analysis**"
   ]
  },
  {
   "cell_type": "markdown",
   "id": "e7c737cd",
   "metadata": {},
   "source": [
    "Monovariate Analysis"
   ]
  },
  {
   "cell_type": "code",
   "execution_count": 79,
   "id": "6ae0b9ea",
   "metadata": {},
   "outputs": [
    {
     "data": {
      "image/png": "[encoded data removed]",
      "text/plain": [
       "<Figure size 640x480 with 1 Axes>"
      ]
     },
     "metadata": {},
     "output_type": "display_data"
    }
   ],
   "source": [
    "gender_dist = df.groupby(by='gender').size()\n",
    "\n",
    "# plot gender distribution\n",
    "gender_dist.plot(kind='bar')\n",
    "\n",
    "# Annotate each bar with its value\n",
    "for index, value in enumerate(gender_dist):\n",
    "    plt.text(index, value, str(value), ha='center', va='bottom', fontdict={'fontsize':12, 'fontweight':'bold'})\n",
    "\n",
    "plt.title('Gender Distribution', fontdict={'fontsize':16, 'fontweight': 'bold'})\n",
    "plt.xlabel(\"Customer Gender\", fontdict={'fontsize':14, 'fontweight':'bold'})\n",
    "plt.ylabel(\"Gender count\", fontdict={'fontsize':14, 'fontweight':'bold'})\n",
    "plt.ylim(3500, 3700)\n",
    "plt.xticks(rotation=0)\n",
    "plt.grid()\n",
    "plt.show();"
   ]
  },
  {
   "cell_type": "code",
   "execution_count": 77,
   "id": "4c9c12f1",
   "metadata": {},
   "outputs": [
    {
     "data": {
      "image/png": "[encoded data removed]",
      "text/plain": [
       "<Figure size 640x480 with 1 Axes>"
      ]
     },
     "metadata": {},
     "output_type": "display_data"
    }
   ],
   "source": [
    "education_dist = df.groupby(by=['education_level']).size()\n",
    "\n",
    "# plot education level\n",
    "education_dist.plot(kind='bar')\n",
    "\n",
    "# Annotate each bar with its value\n",
    "for index, value in enumerate(education_dist):\n",
    "    plt.text(index, value, str(value), ha='center', va='bottom', fontdict={'fontsize':12, 'fontweight':'bold'})\n",
    "\n",
    "plt.xlabel('Customer Education Level', fontdict={'fontsize':14, 'fontweight':'bold'})\n",
    "plt.ylabel('Education Level Count', fontdict={'fontsize':14, 'fontweight':'bold'})\n",
    "plt.title('Customer Education Level Distribution', fontdict={'fontsize':16, 'fontweight':'bold'})\n",
    "plt.ylim(2000, 3000)\n",
    "plt.xticks(rotation=0)\n",
    "plt.grid()\n",
    "plt.show();"
   ]
  },
  {
   "cell_type": "code",
   "execution_count": 82,
   "id": "9e8e671a",
   "metadata": {},
   "outputs": [
    {
     "data": {
      "image/png": "[encoded data removed]",
      "text/plain": [
       "<Figure size 640x480 with 1 Axes>"
      ]
     },
     "metadata": {},
     "output_type": "display_data"
    }
   ],
   "source": [
    "martial_status_dist = df.groupby(by='marital_status').size()\n",
    "martial_status_dist.plot(kind='bar')\n",
    "\n",
    "# Annotate each bar with its value\n",
    "for index, value in enumerate(martial_status_dist):\n",
    "    plt.text(index, value, str(value), ha='center', va='bottom', fontdict={'fontsize':12, 'fontweight':'bold'})\n",
    "plt.title('Marital Status Distribution', fontdict={'fontsize':16, 'fontweight': 'bold'})\n",
    "plt.xlabel(\"Customer Marital Status\", fontdict={'fontsize':14, 'fontweight':'bold'})\n",
    "plt.ylabel(\"Marital Status Count\", fontdict={'fontsize':14, 'fontweight':'bold'})\n",
    "plt.ylim(2000, 3000)\n",
    "plt.xticks(rotation=0)\n",
    "plt.grid()\n",
    "plt.show()\n"
   ]
  },
  {
   "cell_type": "code",
   "execution_count": 50,
   "id": "c31fa526",
   "metadata": {},
   "outputs": [
    {
     "data": {
      "text/plain": [
       "Index(['age', 'gender', 'education_level', 'marital_status', 'income',\n",
       "       'credit_score', 'loan_amount', 'loan_purpose', 'employment_status',\n",
       "       'years_at_current_job', 'payment_history', 'debt_to_income_ratio',\n",
       "       'assets_value', 'number_of_dependents', 'city', 'state', 'country',\n",
       "       'previous_defaults', 'marital_status_change', 'risk_rating'],\n",
       "      dtype='object')"
      ]
     },
     "execution_count": 50,
     "metadata": {},
     "output_type": "execute_result"
    }
   ],
   "source": [
    "df.columns"
   ]
  },
  {
   "cell_type": "markdown",
   "id": "749c0fa1",
   "metadata": {},
   "source": [
    "Bivariate Analysis"
   ]
  },
  {
   "cell_type": "markdown",
   "id": "ce542da2",
   "metadata": {},
   "source": [
    "Multivariate Analysis"
   ]
  },
  {
   "cell_type": "code",
   "execution_count": null,
   "id": "a2b6ea9f",
   "metadata": {},
   "outputs": [],
   "source": []
  }
 ],
 "metadata": {
  "kernelspec": {
   "display_name": ".dl",
   "language": "python",
   "name": "python3"
  },
  "language_info": {
   "codemirror_mode": {
    "name": "ipython",
    "version": 3
   },
   "file_extension": ".py",
   "mimetype": "text/x-python",
   "name": "python",
   "nbconvert_exporter": "python",
   "pygments_lexer": "ipython3",
   "version": "3.11.2"
  }
 },
 "nbformat": 4,
 "nbformat_minor": 5
}
